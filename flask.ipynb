{
  "nbformat": 4,
  "nbformat_minor": 0,
  "metadata": {
    "colab": {
      "provenance": []
    },
    "kernelspec": {
      "name": "python3",
      "display_name": "Python 3"
    },
    "language_info": {
      "name": "python"
    }
  },
  "cells": [
    {
      "cell_type": "code",
      "execution_count": null,
      "metadata": {
        "id": "yWRetXxob-gn"
      },
      "outputs": [],
      "source": []
    },
    {
      "cell_type": "markdown",
      "source": [
        "# **1.WHAT IS A WEB API?**\n",
        "Ans:- Web API is Web Application Praogramming interface.\n",
        "      It is a set of protocols and tools that allow different software applications to communicate with each other over internet.\n",
        "      It is enable the exchange of data and functionality between different systems.\n",
        "      Common HTTP methods used include GET, POST, PUT, and DELETE.\n",
        "      Examples:  Twitter API,PayPal API,Amazon Web Services API.\n"
      ],
      "metadata": {
        "id": "yCum_d4ZcOHV"
      }
    },
    {
      "cell_type": "markdown",
      "source": [
        "# 2.**HOW DOES A WEB API DIFFER FROM A WEB SERVER?**\n",
        "Ans:-* Web API* : Web API is a set of protocols and tools that allow different software applications to communicate with each other over internet.\n",
        "\n",
        "*Web Server* : It is a software or hardware that serves web content to users over the internet.\n",
        "\n",
        "*DIFFERENCE*:\n",
        "\n",
        "*    Web servers interact mainly with web browsers, while web APIs interact with other software applications\n",
        "*   Web servers typically serve HTML and static files, whereas web APIs typically serve data in structured formats (like JSON or XML) for consumption by applications.\n",
        "\n"
      ],
      "metadata": {
        "id": "9Kg5PMd3hu24"
      }
    },
    {
      "cell_type": "markdown",
      "source": [],
      "metadata": {
        "id": "Y6WzaVYqhjOY"
      }
    },
    {
      "cell_type": "markdown",
      "source": [
        "#3.WHAT ARE THE BENIFITS OF USING WEB UPIS IN SOFTWARE DEVELOPMENT?\n",
        "Ans:- Benifits of web APIs are:\n",
        "1. Interoperability\n",
        "2. Modularity\n",
        "3. Reusability\n",
        "4. Scalability\n",
        "5. Rapid Development\n",
        "6. Enhanced Functionality\n",
        "7. Consistency and Standardization\n",
        "8. Data Access\n",
        "9. Security\n",
        "10. Improved User Experience\n",
        "11. Documentation and Community Support\n",
        "\n",
        " web APIs are essential tools in modern software development, enabling flexibility, efficiency, and enhanced functionality while facilitating seamless integration and scalability.\n",
        "\n",
        "\n",
        "\n"
      ],
      "metadata": {
        "id": "6KSZeUYskipW"
      }
    },
    {
      "cell_type": "markdown",
      "source": [
        "#4. EXPLAIN THE DIFFERENCE BETWEEN SOAP AND RESTful APIs ?\n",
        "Ans:-SOAP means Simple Object Access Protocol and REST means Representational State Transfer.\n",
        "\n",
        "Difference between SOAP and RESTful APIs are:\n",
        "1. Protocol vs. Architectural Style\n",
        "\n",
        "  SOAP: A protocol that defines a set of rules for structuring messages. It relies on XML for message format and typically uses HTTP, SMTP, or other protocols for message transmission.\n",
        "REST: An architectural style that uses standard HTTP methods (GET, POST, PUT, DELETE) for operations. It can use various data formats, including JSON, XML, and others.\n",
        "2. Message Format\n",
        "\n",
        " SOAP: Strictly uses XML for messages, which can be more complex.\n",
        "REST: More flexible with formats.\n",
        "3. Statefulness\n",
        "\n",
        "  SOAP: It can be stateful or stateless, depending on the implementation.\n",
        "REST: Stateless by design.\n",
        "4. Security\n",
        "\n",
        " SOAP: It has built-in security features like WS-Security, which provides message integrity and confidentiality.\n",
        "REST: Relies on standard HTTP security (like HTTPS) and can implement authentication and authorization via tokens (e.g., OAuth). Security measures are generally simpler.\n",
        "5. Performance\n",
        "\n",
        " SOAP: It is slower due to the overhead of XML and additional processing required for complex operations.\n",
        "REST: Generally faster and more efficient, especially when using JSON, due to its lightweight nature and use of standard HTTP caching mechanisms.\n",
        "6. Error Handling\n",
        "\n",
        " SOAP: It has standardized error handling through fault messages, making it clear when something goes wrong.\n",
        "REST: It uses standard HTTP status codes (like 200, 404, 500) for error handling, which may require custom handling in the application.\n",
        "7. Use Cases\n",
        "\n",
        " SOAP: it used in enterprise environments where high security, transactional reliability, and ACID-compliant operations are required (e.g., financial services, telecommunications).\n",
        " REST: More common for web services, mobile applications, and public APIs due to its simplicity and ease of use."
      ],
      "metadata": {
        "id": "uWldX9MBmUFT"
      }
    },
    {
      "cell_type": "markdown",
      "source": [
        "#5. WHAT IS JSON AND HOW IT IS COMMONLY USED IN WEB UPIS ?\n",
        "Ans:- JSON means JavaScript Object Notation. It is a lightweight data interchange format that is easy for users to read and write and easy for machines to parse and generate. It is primarily used to represent structured data.Its syntax is derived from JavaScript, but it is language-independent and widely supported across many programming languages.\n",
        "\n",
        "How JSON is Commonly Used in Web APIs:\n",
        "\n",
        "*Data Exchange Format:*\n",
        "\n",
        "JSON is widely used as the format for data exchange between clients and servers in RESTful APIs. It allows for easy serialization and deserialization of complex data structures.\n",
        "\n",
        "*API Responses:*\n",
        "\n",
        "When a client makes a request to a web API, the server often responds with data formatted as JSON. This allows clients to easily parse the response and use the data in their applications.\n",
        "\n",
        "*API Requests:*\n",
        "\n",
        "Clients can also send data to servers in JSON format when making requests.\n",
        "JSON is sometimes used for configuration files in applications.\n",
        "\n",
        "*Interoperability:*\n",
        "\n",
        "JSON's simplicity and widespread adoption make it an ideal choice for APIs that need to be consumed by various clients across different platforms and languages.\n",
        "\n",
        "*Asynchronous Communication:*\n",
        "\n",
        "In web applications, JSON is commonly used in AJAX (Asynchronous JavaScript and XML) requests, allowing for dynamic content updates without refreshing the entire page."
      ],
      "metadata": {
        "id": "62oVVhY1szYZ"
      }
    },
    {
      "cell_type": "markdown",
      "source": [
        "#6. CAN YOU NAME SOME POPULAR WEB API PROTOCOLS OTHER THAN REST ?\n",
        "Ans:-some popular web API protocols other than REST are:\n",
        "1. SOAP (Simple Object Access Protocol)\n",
        "2. GraphQL\n",
        "3. gRPC (gRPC Remote Procedure Calls)\n",
        "4. WebSockets\n",
        "6. AMQP (Advanced Message Queuing Protocol)\n",
        "7. XMPP (Extensible Messaging and Presence Protocol)\n",
        "8. WebRTC (Web Real-Time Communication)"
      ],
      "metadata": {
        "id": "7TD4D08Nud2j"
      }
    },
    {
      "cell_type": "code",
      "source": [],
      "metadata": {
        "id": "-QQ3E45uJBEI"
      },
      "execution_count": null,
      "outputs": []
    },
    {
      "cell_type": "markdown",
      "source": [
        "#7.WHAT ROLE DO HTTP METHODS(GET,POST,PUT,DELETE etc)play in web API development?\n",
        "Ans:-HTTP methods play a crucial role in web API development\n",
        "\n",
        "1. GET\n",
        "\n",
        " It retrieve data from the server.\n",
        "It is Used to request a representation of a resource.\n",
        "Does not change the state of the resource.\n",
        "Multiple identical requests will have the same effect as a single request.\n",
        "2. POST\n",
        "\n",
        " It send data to the server to create a new resource.\n",
        "It is used when submitting data, such as creating a new user or adding an item to a database. Sending the same request multiple times can result in multiple resources being created.\n",
        "3. PUT\n",
        "\n",
        " It Update an existing resource or create a new one if it doesn't exist.\n",
        "Typically used to replace the entire resource with new data. For example, updating a user’s profile.\n",
        "\n",
        "5. DELETE\n",
        "\n",
        " It remove a resource from the server.\n",
        "it is used to delete a specific resource, such as removing a user or an item from a list.\n"
      ],
      "metadata": {
        "id": "vM8D9ifvvS4P"
      }
    },
    {
      "cell_type": "markdown",
      "source": [
        "#8. What is the purpose of authentication and authorization in web APIs?\n",
        "Ans:- Authentication and authorization are critical components of web API security.Authentication verify the identity of a user or system trying to access the API.Authorization determine what actions or resources an authenticated user is allowed to access."
      ],
      "metadata": {
        "id": "R-XxO8vwN660"
      }
    },
    {
      "cell_type": "markdown",
      "source": [
        "#9.How can you handle versioning in Web API development ?\n",
        " Ans:-Handling versioning in web API development is essential to ensure that changes can be made without breaking existing clients.\n",
        "\n",
        "*Communicate Changes:* Clearly document changes between versions and provide migration guides for clients.\n",
        "\n",
        "*Consistent Strategy:* Choose a versioning strategy that aligns with your API design and stick to it across your API.\n",
        "\n",
        "*Plan for Deprecation:* Establish a policy for deprecating older versions, including timelines and communication plans.\n",
        "\n",
        "*Semantic Versioning:* Consider using semantic versioning (major.minor.patch) to indicate the nature of changes in your API."
      ],
      "metadata": {
        "id": "QsWXkd8PP276"
      }
    },
    {
      "cell_type": "markdown",
      "source": [
        "#10. What are the main components of an HTTP request and response in the context of web APIs ?\n",
        "Ans:- HTTP Request Components: Request Line, headers, body\n",
        "      HTTP Response Components:Status line, header,body"
      ],
      "metadata": {
        "id": "TvqS0jd7Zca3"
      }
    },
    {
      "cell_type": "markdown",
      "source": [
        "#11. Describe the concept of rate limiting the context of Web APIs ?\n",
        "Ans:-Rate limiting is a strategy used by web APIs to control the number of requests a client can make within a specific time frame. Its primary purposes are:  Protect server resources from overload or malicious attacks\n",
        ", Distribute API access equitably among multiple users\n",
        ",Control computational and bandwidth consumption."
      ],
      "metadata": {
        "id": "XJ6743yXawxZ"
      }
    },
    {
      "cell_type": "markdown",
      "source": [
        "#12.How can you handle errors and expectations in Web API responses?\n",
        "Ans:- Handling errors and expections in Web API responses is critical for building robust and user-friendly applications.\n",
        "1. Define and follow standard HTTP Status Codes\n",
        "2. Use meaningful error message\n",
        "3. Implement validation and return helpful feedback\n",
        "4. Use error codes for consistency\n",
        "5. Provide documentation for error handling\n",
        "6. Return predictable structure"
      ],
      "metadata": {
        "id": "FDEtiPY9g3-o"
      }
    },
    {
      "cell_type": "markdown",
      "source": [
        "#13.Explain the concept of statelessness of RESTful Web APIs?\n",
        "Ans:- Statelessness is the key characteristics of RESTful Web APIs,which means each request to a RESTful API must contain all the information needed to complete it."
      ],
      "metadata": {
        "id": "vl23c99wjgMi"
      }
    },
    {
      "cell_type": "markdown",
      "source": [
        "#14. What are the best practice of designing and documenting Web APIs?\n",
        "Ans:- Here are some best practice for designing and documenting Web APIs\n",
        "\n",
        "\n",
        "*   Documentation\n",
        "*   Versioning\n",
        "*   Authentication and autorization\n",
        "*   Error handling\n",
        "*   Testing\n",
        "*   Caching\n",
        "*   Pigmentation and filtering\n",
        "*   Naming convention\n",
        "*   RESTful principle\n",
        "*   Request and response payloads\n",
        "*   API design guideline\n",
        "\n",
        "\n",
        "\n",
        "\n",
        "\n",
        "\n",
        "\n",
        "\n",
        "\n",
        "\n"
      ],
      "metadata": {
        "id": "-vqNWqzbkR7c"
      }
    },
    {
      "cell_type": "markdown",
      "source": [
        "#15. What role do API keys and tokens play in securing Web APIs?\n",
        "Ans:- API keys and tokens play a role in securing Web APIs by identifying the application or user making a request, and authenticating and authorizing access."
      ],
      "metadata": {
        "id": "ppyW6EX_mD9u"
      }
    },
    {
      "cell_type": "markdown",
      "source": [
        "#16. What is REST and what are its key principles?\n",
        "Ans:- REST imposes certain architectural constraints on APIs. The five major guiding principles of REST are: uniform interface, stateless, cacheable, client-server, and layered system."
      ],
      "metadata": {
        "id": "l4Sg2KIFn7Ah"
      }
    },
    {
      "cell_type": "markdown",
      "source": [
        "#17.Explain the difference between RESTful APIs and traditional web services?\n",
        "Ans:- ![img.jpg](data:image/jpeg;base64,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)"
      ],
      "metadata": {
        "id": "ZPl5mBKKoLRv"
      }
    },
    {
      "cell_type": "markdown",
      "source": [
        "#18. What are the main HTTP methods used in RESTful architectures and what are their purpose?\n",
        "Ans:- The main HTTP methods used in RESTful architectures are:\n",
        "1. GET:\n",
        "Retrieves a resource or collection of resources from the server. GET is used in read-only mode.\n",
        "2. POST:\n",
        "Creates a new resource by sending data to the server. POST is often used to submit form data or upload files.\n",
        "3. PUT:\n",
        "Updates an existing resource by replacing its content with the updated data in the request body. PUT can also create a new resource if it doesn't exist.\n",
        "4. DELETE:\n",
        "Removes a specific resource from the server. DELETE shouldn't be used on a resource collection.\n",
        "5. PATCH:\n",
        "Partially updates a resource by modifying specified fields or properties. PATCH should be expressed in a standard format, like JSON or XML.\n",
        "\n",
        "These methods are also known as verbs and correspond to the Create, Retrieve, Update, and Delete (CRUD) methods or actions."
      ],
      "metadata": {
        "id": "aE8TxUd9triT"
      }
    },
    {
      "cell_type": "markdown",
      "source": [
        "#19.Describe the concept of statelessness in RESTful APIs?\n",
        "Ans:- Statelessness is the key characteristics of RESTful Web APIs,which means each request to a RESTful API must contain all the information needed to complete it."
      ],
      "metadata": {
        "id": "_NljogpAvCkZ"
      }
    },
    {
      "cell_type": "markdown",
      "source": [
        "#20. What are the significance of URIs in RESTful API design?\n",
        "Ans:- Uniform Resource Identifiers (URIs) are fundamental to RESTful API design because they are used to identify and manipulate resources."
      ],
      "metadata": {
        "id": "pjli6GEfvaqx"
      }
    },
    {
      "cell_type": "markdown",
      "source": [
        "#21. Explain the role of hypermedia in RESTful APIs. How does it relate to HATEOAS?\n",
        "Ans:- Hypermedia as the engine of application state (HATEOAS) is a constraint of the REST software architectural style that distinguishes it from other network architectural styles. With HATEOAS, a client interacts with a network application whose application servers provide information dynamically through hypermedia."
      ],
      "metadata": {
        "id": "qFyi5JSDv6gk"
      }
    },
    {
      "cell_type": "markdown",
      "source": [
        "#22. What are the benifits of using RESTful APIs over other architectural styles?\n",
        "Ans:- RESTful APIs have several benefits over other architectural styles, including:\n",
        "1. Statelessness: RESTful APIs are stateless, meaning each request from a client to a server is independent. This makes them highly scalable and allows servers to handle many concurrent requests.\n",
        "2. Cacheability: RESTful systems identify data as cacheable and respect cache tags. This reduces network traffic and the load on the back-end system.\n",
        "3.Security: RESTful APIs incorporate standard security measures like HTTPS, OAuth, and JWT (JSON Web Tokens) to ensure secure data transmission.\n",
        "4.Supports all types of data formats: RESTful APIs support all data formats.\n",
        "5.Works well with web browsers: RESTful APIs are the best choice for web browsers because you can send an HTTP request, get JavaScript Object Notation (JSON) data in response, and parse that data to use it on the client applications.\n",
        "6.Uses less bandwidth: RESTful APIs use less bandwidth as compared to other types of APIs.\n",
        "7.Easy for most developers: RESTful APIs use HTTP methods for communication.\n",
        "8.Good documentation: RESTful APIs have great support available online."
      ],
      "metadata": {
        "id": "4C5fcs_zwa4r"
      }
    },
    {
      "cell_type": "markdown",
      "source": [
        "#23. Discuss the concept of resource representations in RESTful APIs?\n",
        "Ans:- In a RESTful API, each resource is treated as a separate entity that can be accessed and manipulated independently. For example, a resource for a user might be represented by the URI \"/users/812\", where \"812\" is the identifier for a specific user."
      ],
      "metadata": {
        "id": "9qRT6u8sxg4R"
      }
    },
    {
      "cell_type": "markdown",
      "source": [
        "#24. Discuss the REST handle communication between clients and servers?\n",
        "Ans:- In REST (Representational State Transfer) architecture, clients and servers communicate by sending and receiving HTTP requests and responses:\n",
        "\n",
        "1.Client requests\n",
        "\n",
        "Clients send requests to the server to retrieve or modify data. Requests are usually made over HTTP and include:\n",
        "URIs and resources: The data that clients receive or change through requests\n",
        "\n",
        "HTTP method: A sequence of characters that indicates the main operation on the resource\n",
        "\n",
        "HTTP headers: Additional information about the request\n",
        "\n",
        "Request body: A message sent by the client to the server\n",
        "\n",
        "2.Server responses\n",
        "\n",
        "Servers send responses to client requests. Responses usually include:\n",
        "HTTP response codes."
      ],
      "metadata": {
        "id": "39BDzxNByEJ4"
      }
    },
    {
      "cell_type": "markdown",
      "source": [
        "#25.What are the common data formats used in RESTful API communication?\n",
        "Ans:- The most common data formats used in RESTful API communication are JSON and XML"
      ],
      "metadata": {
        "id": "6NW2QcI_zGIV"
      }
    },
    {
      "cell_type": "markdown",
      "source": [
        "#26. Explain the importance of status codes in RESTful API communication?\n",
        "Ans:- HTTP status codes play a critical role in REST APIs as they provide a way for the server to communicate the outcome of an API request to the client. They allow the client to understand the status of the requested operation and take appropriate action based on the response received."
      ],
      "metadata": {
        "id": "4DDyMbcozpmN"
      }
    },
    {
      "cell_type": "markdown",
      "source": [
        "#27. Describe the process of versioning in RESTful API development?\n",
        "Ans:- Step 1: Choose a versioning strategy. ...\n",
        "\n",
        "Step 2: Confirm whether a new version is necessary...\n",
        "\n",
        "Step 3: Update the documentation. ...\n",
        "\n",
        "Step 4: Gradually deploy the new version. ...\n",
        "\n",
        "Step 5: Deprecate the old version.\n"
      ],
      "metadata": {
        "id": "NQxPCJDV0BZV"
      }
    },
    {
      "cell_type": "markdown",
      "source": [],
      "metadata": {
        "id": "VjpaCWwgx9Yi"
      }
    },
    {
      "cell_type": "markdown",
      "source": [
        "#28. How can  ensure security in RESTful API development? What are common authentication methods?\n",
        "Ans:- To ensure security in RESTful API development, you can use a variety of authentication methods and best practices, including:\n",
        "\n",
        "1.Authentication methods\n",
        "\n",
        "\n",
        "Use a combination of authentication methods like API keys, OAuth, and tokens. API keys are unique tokens that clients use to authenticate themselves, but they should not be used as the sole security measure. OAuth2 is a common authentication method that uses a client ID to initiate an authorization request from the server. Token authentication is a widely used method that issues a unique token to authenticated users.\n",
        "\n",
        "2.Best practices\n",
        "\n",
        "Use TLS encryption to secure all communications between APIs and clients. Use HTTPS to encrypt data in transit. Implement rate limiting to control the number of requests a client can make within a specified timeframe. Regularly rotate and invalidate tokens to minimize the risk of unauthorized access. Keep authentication logic centralized and avoid hardcoding credentials in the code. Don't include sensitive information in URLs. Narrowly define allowed RESTful API requests and responses."
      ],
      "metadata": {
        "id": "JUxO68FsJI9c"
      }
    },
    {
      "cell_type": "markdown",
      "source": [
        "#29. What are some best practices for documenting RESTful APIs?\n",
        "Ans:- Here are some best practices for documenting RESTful APIs:\n",
        "\n",
        "*Plan* : Plan ahead and prioritize important sections\n",
        "\n",
        "\n",
        "*Be clear and simple* : Use clear language and avoid jargon\n",
        "\n",
        "*Be consistent* : Maintain consistency throughout the documentation\n",
        "\n",
        "*Add examples* : Include examples of requests and responses\n",
        "\n",
        "*Consider the audience* : Write for both experienced and entry-level audiences\n",
        "\n",
        "*Include relevant information*: Provide information about endpoints, methods, authorization, limits, and throttling\n",
        "\n",
        "*Use interactive elements* : Add interactive elements to the documentation\n",
        "\n",
        "*Use an API development tool* : Use a tool like Swagger to automatically generate documentation or create a versioning system\n",
        "\n",
        "*Use semantic versioning* : Use semantic versioning to track changes, ensure backward compatibility, and provide migration guides"
      ],
      "metadata": {
        "id": "ZAZ2n-124yhb"
      }
    },
    {
      "cell_type": "markdown",
      "source": [
        "#30. What considerations should be made for errpr handling in RESTful APIs?\n",
        "Ans:- When handling errors in RESTful APIs, you should consider things like:\n",
        "\n",
        "1.Using the correct HTTP status code\n",
        "\n",
        "2.Providing a clear error message\n",
        "\n",
        "3.Avoiding sensitive information\n",
        "\n",
        "4.Logging errors\n",
        "\n",
        "5.Testing error handling code\n",
        "\n",
        "6.Using HTTP headers\n",
        "\n",
        "7.Using HTTP error pages, separate error pages\n",
        "\n",
        "8.Not ignoring errors\n",
        "\n",
        "9.Using a consistent error response structure"
      ],
      "metadata": {
        "id": "nz5PjslP6CmL"
      }
    },
    {
      "cell_type": "markdown",
      "source": [
        "#31. What consideration should be made for error handling in RESTful APIs?\n",
        "Ans:- To eliminate confusion for API users when an error occurs, we should handle errors gracefully and return HTTP response codes that indicate what kind of error occurred. This gives maintainers of the API enough information to understand the problem that's occurred."
      ],
      "metadata": {
        "id": "oU0TPaT07VPi"
      }
    },
    {
      "cell_type": "markdown",
      "source": [
        "#31. What is SOAP, and how does it differ from REST ?\n",
        "Ans:- SOAP (Simple Object Access Protocol) is a message protocol that enables the distributed elements of an application to communicate.The main difference is that SOAP is a protocol while REST is not."
      ],
      "metadata": {
        "id": "W-D0sxhM7tpC"
      }
    },
    {
      "cell_type": "markdown",
      "source": [
        "#32. Describe the structure of SOAP message.\n",
        "Ans:- A SOAP message is an XML document that consists of a SOAP envelope, an optional SOAP header, and a SOAP body. The SOAP message header contains information that allows the message to be routed through one or more intermediate nodes before it reaches its final destination."
      ],
      "metadata": {
        "id": "XpmWkAxE8Z2U"
      }
    },
    {
      "cell_type": "markdown",
      "source": [
        "#33. How does SOAP handle communnication  between clients and servers ?\n",
        "Ans:- Simple Object Access Protocol (SOAP) is a messaging protocol that allows clients and servers to communicate by exchanging XML-based messages over the internet."
      ],
      "metadata": {
        "id": "E7Dwqmop84Pv"
      }
    },
    {
      "cell_type": "markdown",
      "source": [
        "#34. What are the advantages and disadvantages of using SOAP-based web services ?\n",
        "Ans:- *Advantages*\n",
        "\n",
        "Security: SOAP APIs authenticate and authorize API calls to ensure that information is only passed to the correct users or software.\n",
        "\n",
        "Built-in features: SOAP APIs have built-in error handling and security features.\n",
        "\n",
        "Standardization: SOAP APIs are standardized.\n",
        "\n",
        "Language independence: SOAP APIs are language independent.\n",
        "\n",
        "Support for ACID transactions: SOAP APIs support ACID transactions.\n",
        "\n",
        "Wide support: SOAP APIs have wide support for different languages and platforms.\n",
        "\n",
        "*Disadvantages*\n",
        "\n",
        "Slower performance: SOAP APIs are slower than REST APIs.\n",
        "\n",
        "More complex: SOAP APIs are more complex and harder to implement than REST APIs.\n",
        "\n",
        "Limited support for mobile devices: SOAP APIs have limited support for mobile devices and web browsers.\n",
        "\n",
        "Limited data formats: SOAP APIs only support XML data exchange, while REST APIs support multiple formats, including HTML, JSON, YAML, and XML.\n",
        "\n",
        "No API call caching: SOAP API calls cannot be cached.\n",
        "\n",
        "Uses more bandwidth: SOAP APIs use more bandwidth than REST APIs."
      ],
      "metadata": {
        "id": "zRmon33f9TtZ"
      }
    },
    {
      "cell_type": "markdown",
      "source": [
        "#35. How does SOAP ensure security in web service communication?\n",
        "Ans:- It specifies the use of digital signatures to provide integrity for XML elements in a SOAP message, and it specifies the use of encryption to provide confidentiality for XML elements in a SOAP message. The specification allows you to protect the body of the message or any XML elements within the body or the header."
      ],
      "metadata": {
        "id": "H4G1y2h_-EnD"
      }
    },
    {
      "cell_type": "markdown",
      "source": [
        "#36. What is Flask, and what makes it different from other web frameworks?\n",
        "Ans:- Flask is a Python-based web framework that's lightweight, flexible, and easy to use, making it a good choice for building web applications.It is different from other web frameworks because it does not rely on external libraries to perform framework tasks."
      ],
      "metadata": {
        "id": "9YeTWxbw-X9S"
      }
    },
    {
      "cell_type": "markdown",
      "source": [
        "#37. Describe the basic structure of a Flask application.\n",
        "Ans:-A Flask application can be as simple as a single file.\n",
        "\n",
        "```\n",
        "# This is formatted as code\\\n",
        "\n",
        " from flask import Flask\n",
        " app = Flask(__name__)\n",
        " @app.route('/')\n",
        " def hello():\n",
        "     return 'Hello, World!'\n",
        "\n",
        "\n",
        "```\n",
        "\n",
        "However, as a project gets bigger, it becomes overwhelming to keep all the code in one file"
      ],
      "metadata": {
        "id": "Jh0MElKq-7Ka"
      }
    },
    {
      "cell_type": "markdown",
      "source": [
        "#38. How do you install Flask on your local machine?\n",
        "Ans:- Steps of installation of Flask:\n",
        "\n",
        "Install virtual environment\n",
        "\n",
        "Create an environment\n",
        "\n",
        "Activate the environment\n",
        "\n",
        "Install flask"
      ],
      "metadata": {
        "id": "dWxBjA_b_wqy"
      }
    },
    {
      "cell_type": "markdown",
      "source": [
        "#39. Explain the concept of routing in Flask.\n",
        "Ans:- Routing is the process of path selection in any network. A computer network is made of many machines, called nodes, and paths or links that connect those nodes. Communication between two nodes in an interconnected network can take place through many different paths."
      ],
      "metadata": {
        "id": "o02Kcnh5AawZ"
      }
    },
    {
      "cell_type": "markdown",
      "source": [
        "#40.  What are Flask templates, and how are they used in web development?\n",
        "Ans:- Flask templates are files that contain static data and placeholders for dynamic data, and are used to create dynamic and interactive web pages in Flask, a popular Python web framework."
      ],
      "metadata": {
        "id": "aOgwKfD8ApVg"
      }
    }
  ]
}